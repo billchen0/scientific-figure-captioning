{
 "cells": [
  {
   "cell_type": "markdown",
   "id": "6a0be9e5-2284-4a45-a59c-144da4283972",
   "metadata": {},
   "source": [
    "# Caption Analysis"
   ]
  },
  {
   "cell_type": "markdown",
   "id": "31952670-203a-4381-b16a-4740258b9050",
   "metadata": {},
   "source": [
    "## Load Captions"
   ]
  },
  {
   "cell_type": "code",
   "execution_count": 1,
   "id": "83e1c801-f400-48b0-811c-99b183275745",
   "metadata": {},
   "outputs": [],
   "source": [
    "import os\n",
    "import json\n",
    "import pandas as pd"
   ]
  },
  {
   "cell_type": "code",
   "execution_count": 2,
   "id": "03e94c1b-2ac7-4832-a5b5-6dbd79785036",
   "metadata": {},
   "outputs": [],
   "source": [
    "path = '/data/bxc5446/pdffigures2/target/scala-2.11/results'\n",
    "\n",
    "os.chdir(path)\n",
    "\n",
    "# All caption filenames\n",
    "captions = []\n",
    "\n",
    "with os.scandir(path) as files:\n",
    "    # Loop through file in directory\n",
    "    for file in files:\n",
    "        # We have png and json files, add only file with json ending\n",
    "        if file.name.endswith('.json'):\n",
    "            captions.append(file.name)"
   ]
  },
  {
   "cell_type": "code",
   "execution_count": 3,
   "id": "0ed07c3c-b077-442c-b587-f1c6f6895a13",
   "metadata": {},
   "outputs": [
    {
     "name": "stdout",
     "output_type": "stream",
     "text": [
      "Number of Caption Files (each file contains 2-3 captions): 57504\n"
     ]
    }
   ],
   "source": [
    "print(f'Number of Caption Files (each file contains 2-3 captions): {len(captions)}')"
   ]
  },
  {
   "cell_type": "markdown",
   "id": "9225a747-2b95-4d01-aa47-83bd1eec585e",
   "metadata": {},
   "source": [
    "The number of figures and tables we have is 98743, this means that some of the figures don't have captions"
   ]
  },
  {
   "cell_type": "code",
   "execution_count": 4,
   "id": "f24995ea-3b40-455a-82e3-ad93c78587db",
   "metadata": {},
   "outputs": [],
   "source": [
    "from PIL import Image"
   ]
  },
  {
   "cell_type": "code",
   "execution_count": 5,
   "id": "37f88815-f8ee-4ba8-91c6-3b27fb637b77",
   "metadata": {},
   "outputs": [
    {
     "data": {
      "image/png": "[encoded data removed]",
      "text/plain": [
       "<PIL.PngImagePlugin.PngImageFile image mode=RGB size=201x153 at 0x7F30C1689390>"
      ]
     },
     "execution_count": 5,
     "metadata": {},
     "output_type": "execute_result"
    }
   ],
   "source": [
    "Image.open('C12-2114-Figure1-1.png')"
   ]
  },
  {
   "cell_type": "code",
   "execution_count": 6,
   "id": "12dc80e6-a315-4e40-8361-69cffdf602ea",
   "metadata": {},
   "outputs": [
    {
     "name": "stdout",
     "output_type": "stream",
     "text": [
      "{'caption': 'Figure 1: Optimal decision boundary is not optimal when one dimension is removed', 'captionBoundary': {'x1': 75.82592010498047, 'x2': 357.3016662597656, 'y1': 212.9239959716797, 'y2': 217.510986328125}, 'figType': 'Figure', 'imageText': ['2d-svc', 'test(2d-svc)', '1d-svc', '8', '6', '4', '2', '0', '−2', '−4', '−6', '−8', '−14', '−12', '−10', '−8', '−6', '−4', '−2', '0', '−10'], 'name': '1', 'page': 2, 'regionBoundary': {'x1': 143.28, 'x2': 287.28, 'y1': 82.08, 'y2': 191.51999999999998}, 'renderDpi': 100, 'renderURL': 'results/C12-2114-Figure1-1.png'}\n"
     ]
    }
   ],
   "source": [
    "# Inspect one json file\n",
    "with open(captions[50]) as file:\n",
    "    print(json.load(file)[3])"
   ]
  },
  {
   "cell_type": "markdown",
   "id": "cf298c91-8ef8-4642-863c-c59efeb2897a",
   "metadata": {},
   "source": [
    "There are many fields in the json file, for our project we will only need the captions. "
   ]
  },
  {
   "cell_type": "code",
   "execution_count": 7,
   "id": "8050456f-cda5-41f0-abb8-369fb7b9703f",
   "metadata": {},
   "outputs": [],
   "source": [
    "# Extract the caption itself ['caption'] and the figure ['renderURL'] that it matches to from the json data. \n",
    "data = {}\n",
    "\n",
    "for caption in captions:\n",
    "    \n",
    "    with open(caption) as file:\n",
    "        for cap in json.load(file):\n",
    "            try:\n",
    "                data[cap['renderURL']] = cap['caption']\n",
    "            except:\n",
    "                data[cap['renderURL']] = 'empty'"
   ]
  },
  {
   "cell_type": "code",
   "execution_count": 8,
   "id": "dd78157d-ec1f-4f21-9450-9efaa76f4d43",
   "metadata": {},
   "outputs": [
    {
     "data": {
      "text/html": [
       "<div>\n",
       "<style scoped>\n",
       "    .dataframe tbody tr th:only-of-type {\n",
       "        vertical-align: middle;\n",
       "    }\n",
       "\n",
       "    .dataframe tbody tr th {\n",
       "        vertical-align: top;\n",
       "    }\n",
       "\n",
       "    .dataframe thead th {\n",
       "        text-align: right;\n",
       "    }\n",
       "</style>\n",
       "<table border=\"1\" class=\"dataframe\">\n",
       "  <thead>\n",
       "    <tr style=\"text-align: right;\">\n",
       "      <th></th>\n",
       "      <th>file</th>\n",
       "      <th>caption</th>\n",
       "    </tr>\n",
       "  </thead>\n",
       "  <tbody>\n",
       "    <tr>\n",
       "      <th>0</th>\n",
       "      <td>results/1987.mtsummit-1.14-Figure3-2-1.png</td>\n",
       "      <td>Figure 3-2 SENTENCE STRUCTURE</td>\n",
       "    </tr>\n",
       "    <tr>\n",
       "      <th>1</th>\n",
       "      <td>results/1987.mtsummit-1.14-Figure3-3-1.png</td>\n",
       "      <td>Figure 3-3 shows the flow of the syntactic and...</td>\n",
       "    </tr>\n",
       "    <tr>\n",
       "      <th>2</th>\n",
       "      <td>results/1987.mtsummit-1.14-Figure3-7-1.png</td>\n",
       "      <td>Figure 3-7 GENERATION OF MORPHOLOGICAL INFORMA...</td>\n",
       "    </tr>\n",
       "    <tr>\n",
       "      <th>3</th>\n",
       "      <td>results/1987.mtsummit-1.14-Figure3-6-1.png</td>\n",
       "      <td>Figure 3-6 TYPICAL TRANSFER PROBLEM CAUSED BY ...</td>\n",
       "    </tr>\n",
       "    <tr>\n",
       "      <th>4</th>\n",
       "      <td>results/1987.mtsummit-1.14-Figure3-1-1.png</td>\n",
       "      <td>Figure 3-1 WORD STRUCTURE</td>\n",
       "    </tr>\n",
       "    <tr>\n",
       "      <th>...</th>\n",
       "      <td>...</td>\n",
       "      <td>...</td>\n",
       "    </tr>\n",
       "    <tr>\n",
       "      <th>298843</th>\n",
       "      <td>results/P19-3033-Figure2-1.png</td>\n",
       "      <td>Figure 2: Outline of the process used to ident...</td>\n",
       "    </tr>\n",
       "    <tr>\n",
       "      <th>298844</th>\n",
       "      <td>results/P19-3034-Figure2-1.png</td>\n",
       "      <td>Figure 2: An example of auto-generated test it...</td>\n",
       "    </tr>\n",
       "    <tr>\n",
       "      <th>298845</th>\n",
       "      <td>results/P19-3034-Table2-1.png</td>\n",
       "      <td>Table 2: WSD evaluation</td>\n",
       "    </tr>\n",
       "    <tr>\n",
       "      <th>298846</th>\n",
       "      <td>results/P19-3034-Figure1-1.png</td>\n",
       "      <td>Figure 1: An example Linggle Booster session f...</td>\n",
       "    </tr>\n",
       "    <tr>\n",
       "      <th>298847</th>\n",
       "      <td>results/P19-3034-Table1-1.png</td>\n",
       "      <td>Table 1: Accuracy of human evaluations of Ling...</td>\n",
       "    </tr>\n",
       "  </tbody>\n",
       "</table>\n",
       "<p>298848 rows × 2 columns</p>\n",
       "</div>"
      ],
      "text/plain": [
       "                                              file  \\\n",
       "0       results/1987.mtsummit-1.14-Figure3-2-1.png   \n",
       "1       results/1987.mtsummit-1.14-Figure3-3-1.png   \n",
       "2       results/1987.mtsummit-1.14-Figure3-7-1.png   \n",
       "3       results/1987.mtsummit-1.14-Figure3-6-1.png   \n",
       "4       results/1987.mtsummit-1.14-Figure3-1-1.png   \n",
       "...                                            ...   \n",
       "298843              results/P19-3033-Figure2-1.png   \n",
       "298844              results/P19-3034-Figure2-1.png   \n",
       "298845               results/P19-3034-Table2-1.png   \n",
       "298846              results/P19-3034-Figure1-1.png   \n",
       "298847               results/P19-3034-Table1-1.png   \n",
       "\n",
       "                                                  caption  \n",
       "0                           Figure 3-2 SENTENCE STRUCTURE  \n",
       "1       Figure 3-3 shows the flow of the syntactic and...  \n",
       "2       Figure 3-7 GENERATION OF MORPHOLOGICAL INFORMA...  \n",
       "3       Figure 3-6 TYPICAL TRANSFER PROBLEM CAUSED BY ...  \n",
       "4                               Figure 3-1 WORD STRUCTURE  \n",
       "...                                                   ...  \n",
       "298843  Figure 2: Outline of the process used to ident...  \n",
       "298844  Figure 2: An example of auto-generated test it...  \n",
       "298845                            Table 2: WSD evaluation  \n",
       "298846  Figure 1: An example Linggle Booster session f...  \n",
       "298847  Table 1: Accuracy of human evaluations of Ling...  \n",
       "\n",
       "[298848 rows x 2 columns]"
      ]
     },
     "execution_count": 8,
     "metadata": {},
     "output_type": "execute_result"
    }
   ],
   "source": [
    "# Tranform to dataframe for easier processing\n",
    "cap_data = pd.DataFrame(list(data.items()), columns=['file', 'caption'])\n",
    "\n",
    "cap_data"
   ]
  },
  {
   "cell_type": "markdown",
   "id": "151ec307-e1e5-476c-9bbf-50965b04a019",
   "metadata": {},
   "source": [
    "## Data Preprocessing\n",
    "\n",
    "From initial inspection of the data, some first step would be remove the files with no captions. Additionally, since we are not working with tables in this project, we need to remove captions which are intended for tables."
   ]
  },
  {
   "cell_type": "code",
   "execution_count": 9,
   "id": "ca31d3cc-605c-418d-9658-ac6b3c31bf73",
   "metadata": {},
   "outputs": [
    {
     "name": "stdout",
     "output_type": "stream",
     "text": [
      "We removed 0 empty caption files\n"
     ]
    }
   ],
   "source": [
    "df = cap_data[cap_data['caption'] != 'empty']\n",
    "\n",
    "print(f'We removed {cap_data.shape[0] - df.shape[0]} empty caption files')"
   ]
  },
  {
   "cell_type": "code",
   "execution_count": 10,
   "id": "1c928c78-4223-4994-ae35-927b089ee1cc",
   "metadata": {},
   "outputs": [
    {
     "name": "stdout",
     "output_type": "stream",
     "text": [
      "We removed 175129 files which are tables, now we have 123719 files of figure captions\n"
     ]
    }
   ],
   "source": [
    "# seperate file that starts with t or T, indicating it is for tables\n",
    "index = df['caption'].str.contains(r'^[Tt]')\n",
    "\n",
    "tables = df[index]\n",
    "df = df[~index]\n",
    "\n",
    "print(f'We removed {tables.shape[0]} files which are tables, now we have {df.shape[0]} files of figure captions')"
   ]
  },
  {
   "cell_type": "code",
   "execution_count": 11,
   "id": "6460276c-56f2-4d38-ad0e-1d0079bce7cf",
   "metadata": {},
   "outputs": [
    {
     "data": {
      "text/html": [
       "<div>\n",
       "<style scoped>\n",
       "    .dataframe tbody tr th:only-of-type {\n",
       "        vertical-align: middle;\n",
       "    }\n",
       "\n",
       "    .dataframe tbody tr th {\n",
       "        vertical-align: top;\n",
       "    }\n",
       "\n",
       "    .dataframe thead th {\n",
       "        text-align: right;\n",
       "    }\n",
       "</style>\n",
       "<table border=\"1\" class=\"dataframe\">\n",
       "  <thead>\n",
       "    <tr style=\"text-align: right;\">\n",
       "      <th></th>\n",
       "      <th>file</th>\n",
       "      <th>caption</th>\n",
       "    </tr>\n",
       "  </thead>\n",
       "  <tbody>\n",
       "    <tr>\n",
       "      <th>0</th>\n",
       "      <td>results/1987.mtsummit-1.14-Figure3-2-1.png</td>\n",
       "      <td>Figure 3-2 SENTENCE STRUCTURE</td>\n",
       "    </tr>\n",
       "    <tr>\n",
       "      <th>1</th>\n",
       "      <td>results/1987.mtsummit-1.14-Figure3-3-1.png</td>\n",
       "      <td>Figure 3-3 shows the flow of the syntactic and...</td>\n",
       "    </tr>\n",
       "    <tr>\n",
       "      <th>2</th>\n",
       "      <td>results/1987.mtsummit-1.14-Figure3-7-1.png</td>\n",
       "      <td>Figure 3-7 GENERATION OF MORPHOLOGICAL INFORMA...</td>\n",
       "    </tr>\n",
       "    <tr>\n",
       "      <th>3</th>\n",
       "      <td>results/1987.mtsummit-1.14-Figure3-6-1.png</td>\n",
       "      <td>Figure 3-6 TYPICAL TRANSFER PROBLEM CAUSED BY ...</td>\n",
       "    </tr>\n",
       "    <tr>\n",
       "      <th>4</th>\n",
       "      <td>results/1987.mtsummit-1.14-Figure3-1-1.png</td>\n",
       "      <td>Figure 3-1 WORD STRUCTURE</td>\n",
       "    </tr>\n",
       "  </tbody>\n",
       "</table>\n",
       "</div>"
      ],
      "text/plain": [
       "                                         file  \\\n",
       "0  results/1987.mtsummit-1.14-Figure3-2-1.png   \n",
       "1  results/1987.mtsummit-1.14-Figure3-3-1.png   \n",
       "2  results/1987.mtsummit-1.14-Figure3-7-1.png   \n",
       "3  results/1987.mtsummit-1.14-Figure3-6-1.png   \n",
       "4  results/1987.mtsummit-1.14-Figure3-1-1.png   \n",
       "\n",
       "                                             caption  \n",
       "0                      Figure 3-2 SENTENCE STRUCTURE  \n",
       "1  Figure 3-3 shows the flow of the syntactic and...  \n",
       "2  Figure 3-7 GENERATION OF MORPHOLOGICAL INFORMA...  \n",
       "3  Figure 3-6 TYPICAL TRANSFER PROBLEM CAUSED BY ...  \n",
       "4                          Figure 3-1 WORD STRUCTURE  "
      ]
     },
     "execution_count": 11,
     "metadata": {},
     "output_type": "execute_result"
    }
   ],
   "source": [
    "df.head()"
   ]
  },
  {
   "cell_type": "markdown",
   "id": "1c20c571-be8d-4ac3-8c70-7ef19198d021",
   "metadata": {},
   "source": [
    "Before doing exploratory analysis on our data, we will perform standard text cleaning and processing procedures on our captions."
   ]
  },
  {
   "cell_type": "code",
   "execution_count": 12,
   "id": "964b4974-42c1-402b-afd9-56a47e37a980",
   "metadata": {},
   "outputs": [],
   "source": [
    "import re\n",
    "import matplotlib.pyplot as plt\n",
    "import seaborn as sns\n",
    "sns.set()"
   ]
  },
  {
   "cell_type": "code",
   "execution_count": 13,
   "id": "ec52d8b6-3d6f-42c6-ac3b-3670c3f952b0",
   "metadata": {},
   "outputs": [],
   "source": [
    "def clean_text(text):\n",
    "    # Lower case\n",
    "    text = text.lower()\n",
    "    \n",
    "    # Strip extra whitespace\n",
    "    text = text.strip()\n",
    "    \n",
    "    # Since we know all captions are figures, we can remove the indication\n",
    "    text = re.sub(r'^fig[a-z]*.\\s[0-9].', '', text)\n",
    "    text = text.strip()\n",
    "    \n",
    "    return text"
   ]
  },
  {
   "cell_type": "code",
   "execution_count": 14,
   "id": "98ad7843-6074-44a1-934c-0feccc9678cc",
   "metadata": {},
   "outputs": [],
   "source": [
    "df['clean text'] = df.apply(lambda row: clean_text(row['caption']), axis=1)"
   ]
  },
  {
   "cell_type": "markdown",
   "id": "673ea5e4-0408-4449-85e1-441766858d83",
   "metadata": {},
   "source": [
    "After having our text cleaned, we can do some plots to explore the shape of our captions."
   ]
  },
  {
   "cell_type": "code",
   "execution_count": 15,
   "id": "5289d73e-04d8-43fe-a79c-be548a8c1092",
   "metadata": {},
   "outputs": [],
   "source": [
    "import nltk \n",
    "from nltk.tokenize import sent_tokenize\n",
    "\n",
    "df['num_words'] = df.apply(lambda row: len(row['caption'].split()), axis=1)\n",
    "df['num_sentence'] = df.apply(lambda row: len(sent_tokenize(row['caption'])), axis=1)"
   ]
  },
  {
   "cell_type": "code",
   "execution_count": 16,
   "id": "920074b2-a482-4365-abc0-755e078a2ced",
   "metadata": {},
   "outputs": [
    {
     "data": {
      "text/plain": [
       "(0.0, 100.0)"
      ]
     },
     "execution_count": 16,
     "metadata": {},
     "output_type": "execute_result"
    },
    {
     "data": {
      "image/png": "[encoded data removed]",
      "text/plain": [
       "<Figure size 360x360 with 1 Axes>"
      ]
     },
     "metadata": {},
     "output_type": "display_data"
    }
   ],
   "source": [
    "sns.displot(df['num_words'], kde=True, bins=int(180/10), color='darkblue')\n",
    "plt.xlim(0, 100)\n"
   ]
  },
  {
   "cell_type": "code",
   "execution_count": 17,
   "id": "8caf561c-d96b-431d-858a-30aa8e0f8bc7",
   "metadata": {},
   "outputs": [
    {
     "data": {
      "text/plain": [
       "<seaborn.axisgrid.FacetGrid at 0x7f30b48948d0>"
      ]
     },
     "execution_count": 17,
     "metadata": {},
     "output_type": "execute_result"
    },
    {
     "data": {
      "image/png": "[encoded data removed]",
      "text/plain": [
       "<Figure size 360x360 with 1 Axes>"
      ]
     },
     "metadata": {},
     "output_type": "display_data"
    },
    {
     "data": {
      "image/png": "[encoded data removed]",
      "text/plain": [
       "<Figure size 360x360 with 1 Axes>"
      ]
     },
     "metadata": {},
     "output_type": "display_data"
    }
   ],
   "source": [
    "ns_plot = sns.displot(df['num_sentence'], kde=True, bins=int(180/5), color='darkblue')\n",
    "plt.xlim(0, 10)\n",
    "sns.displot(data=df, x='num_words', y='num_sentence', kind='kde')"
   ]
  },
  {
   "cell_type": "markdown",
   "id": "7e1db2d2-3888-4f4b-a7b1-9881789caa85",
   "metadata": {},
   "source": [
    "From the plots, we can see that most of our caption has less than 100 words and less than 10 sentences."
   ]
  },
  {
   "cell_type": "code",
   "execution_count": 60,
   "id": "6ad8cf68-7f83-419d-94aa-081dee6fbd1d",
   "metadata": {},
   "outputs": [
    {
     "data": {
      "text/plain": [
       "'Figure 1: A motivating example for fact checking and the FEVER task. Verifying the claim requires understanding the semantic structure of multiple evidence sentences and the reasoning process over the structure.'"
      ]
     },
     "execution_count": 60,
     "metadata": {},
     "output_type": "execute_result"
    }
   ],
   "source": [
    "df[df.num_sentence == 2].iloc[12]['caption']"
   ]
  },
  {
   "cell_type": "markdown",
   "id": "4a9244d4-8c10-4c71-861c-29449cb15628",
   "metadata": {},
   "source": [
    "***"
   ]
  },
  {
   "cell_type": "markdown",
   "id": "bdc293c3-ee34-469f-85dc-94e310d28f96",
   "metadata": {},
   "source": [
    "Preprocess all the captions\n",
    "* Give special token to the numbers\n",
    "* Get rid of caption that are too long or too short\n",
    "* Select the first couple of sentenced for caption with more than 2 sentences"
   ]
  },
  {
   "cell_type": "markdown",
   "id": "dc966e0c-e645-4421-834b-9b95e1d8a3d4",
   "metadata": {},
   "source": [
    "***"
   ]
  },
  {
   "cell_type": "markdown",
   "id": "9aa48c97-c760-4410-bfe8-a58357025b27",
   "metadata": {},
   "source": [
    "Now we can process the data by removing outliers in terms of number of words. Since our data is not normally distributed, we will use IQR to remove the outlier. "
   ]
  },
  {
   "cell_type": "code",
   "execution_count": 66,
   "id": "0561e989-1264-4bcc-979e-74886bf3a1a9",
   "metadata": {},
   "outputs": [],
   "source": [
    "import numpy as np"
   ]
  },
  {
   "cell_type": "code",
   "execution_count": 76,
   "id": "790441e7-efab-4b76-9431-6a16cc5b24d8",
   "metadata": {},
   "outputs": [
    {
     "data": {
      "text/plain": [
       "<AxesSubplot:xlabel='num_words'>"
      ]
     },
     "execution_count": 76,
     "metadata": {},
     "output_type": "execute_result"
    },
    {
     "data": {
      "image/png": "[encoded data removed]",
      "text/plain": [
       "<Figure size 432x288 with 1 Axes>"
      ]
     },
     "metadata": {},
     "output_type": "display_data"
    }
   ],
   "source": [
    "# Plot box plot\n",
    "sns.boxplot(x=df['num_words'])"
   ]
  },
  {
   "cell_type": "code",
   "execution_count": null,
   "id": "1b1f2540-5afc-4a81-949e-d2939496be35",
   "metadata": {},
   "outputs": [
    {
     "data": {
      "text/plain": [
       "<AxesSubplot:xlabel='num_sentence'>"
      ]
     },
     "execution_count": 77,
     "metadata": {},
     "output_type": "execute_result"
    },
    {
     "data": {
      "image/png": "[encoded data removed]",
      "text/plain": [
       "<Figure size 432x288 with 1 Axes>"
      ]
     },
     "metadata": {},
     "output_type": "display_data"
    }
   ],
   "source": [
    "sns.boxplot(x=df['num_sentence'])"
   ]
  },
  {
   "cell_type": "code",
   "execution_count": 83,
   "id": "2b77c5d2-8c36-43bb-b6f3-5a38ebd72810",
   "metadata": {},
   "outputs": [
    {
     "name": "stdout",
     "output_type": "stream",
     "text": [
      "The upper limit cutoff is 55.5 and the lower limit cutoff is -20.5\n"
     ]
    }
   ],
   "source": [
    "p25 = df['num_words'].quantile(0.25)\n",
    "p75 = df['num_words'].quantile(0.75)\n",
    "\n",
    "# Calculate IQR\n",
    "q3, q1 = np.percentile(df['num_words'], [75, 25])\n",
    "iqr = q3 - q1\n",
    "\n",
    "\n",
    "upper = p75 + 1.5*iqr\n",
    "lower = p25 - 1.5*iqr\n",
    "\n",
    "print(f'The upper limit cutoff is {upper} and the lower limit cutoff is {lower}')"
   ]
  },
  {
   "cell_type": "code",
   "execution_count": 96,
   "id": "5a75941b-f51b-4f16-bbfe-36feeaab76a7",
   "metadata": {},
   "outputs": [
    {
     "name": "stdout",
     "output_type": "stream",
     "text": [
      "We removed 8775 outliers\n"
     ]
    }
   ],
   "source": [
    "new_df = df[df['num_words'] < upper]\n",
    "\n",
    "print(f'We removed {df.shape[0] - new_df.shape[0]} outliers')"
   ]
  },
  {
   "cell_type": "code",
   "execution_count": 99,
   "id": "4cc494a6-00f9-45ec-a792-b60651ae781d",
   "metadata": {},
   "outputs": [
    {
     "data": {
      "text/plain": [
       "<AxesSubplot:xlabel='num_words'>"
      ]
     },
     "execution_count": 99,
     "metadata": {},
     "output_type": "execute_result"
    },
    {
     "data": {
      "image/png": "[encoded data removed]",
      "text/plain": [
       "<Figure size 432x288 with 1 Axes>"
      ]
     },
     "metadata": {},
     "output_type": "display_data"
    }
   ],
   "source": [
    "sns.boxplot(x=new_df['num_words'])"
   ]
  },
  {
   "cell_type": "code",
   "execution_count": 193,
   "id": "8dd85bd6-b7ea-4667-aee5-5233ac743afc",
   "metadata": {},
   "outputs": [],
   "source": [
    "l25 = df['num_sentence'].quantile(0.25)\n",
    "l75 = df['num_sentence'].quantile(0.75)\n",
    "l3, l1 = np.percentile(df['num_sentence'], [75,25])\n",
    "liqr = l3-l1\n",
    "lupper = l75 + 1.5*liqr\n",
    "llower = l25 - 1.5*liqr\n",
    "new2_df = df[df['num_sentence'] < upper]"
   ]
  },
  {
   "cell_type": "code",
   "execution_count": 194,
   "id": "38e1377d-cd48-4f81-8e3f-523eed5eb823",
   "metadata": {},
   "outputs": [
    {
     "data": {
      "text/html": [
       "<div>\n",
       "<style scoped>\n",
       "    .dataframe tbody tr th:only-of-type {\n",
       "        vertical-align: middle;\n",
       "    }\n",
       "\n",
       "    .dataframe tbody tr th {\n",
       "        vertical-align: top;\n",
       "    }\n",
       "\n",
       "    .dataframe thead th {\n",
       "        text-align: right;\n",
       "    }\n",
       "</style>\n",
       "<table border=\"1\" class=\"dataframe\">\n",
       "  <thead>\n",
       "    <tr style=\"text-align: right;\">\n",
       "      <th></th>\n",
       "      <th>file</th>\n",
       "      <th>caption</th>\n",
       "      <th>clean text</th>\n",
       "      <th>num_words</th>\n",
       "      <th>num_sentence</th>\n",
       "    </tr>\n",
       "  </thead>\n",
       "  <tbody>\n",
       "    <tr>\n",
       "      <th>56</th>\n",
       "      <td>results/E17-1114-Figure1-1.png</td>\n",
       "      <td>Figure 1: Multitask method. Words are represented in the Word2Vec space. Such representations are averaged per window. Sequences are feed to GRU network. Finally, the features are feed to two softmax components to predict genre and success simultaneously.</td>\n",
       "      <td>multitask method. words are represented in the word2vec space. such representations are averaged per window. sequences are feed to gru network. finally, the features are feed to two softmax components to predict genre and success simultaneously.</td>\n",
       "      <td>38</td>\n",
       "      <td>5</td>\n",
       "    </tr>\n",
       "    <tr>\n",
       "      <th>96</th>\n",
       "      <td>results/C12-2115-Figure3-1.png</td>\n",
       "      <td>Figure 3: Results, incl. language-level weighting (gtree and typology), unsupervised model selection (pr), instance-weighted extensions (w–) and a comparison with recent work. AV is macro-average, and AVM is macro-average on the 8 languages used in McDonald et al. (2011). The voted systems (a) and (b) take non-weighted votes over the systems in the above rows.</td>\n",
       "      <td>results, incl. language-level weighting (gtree and typology), unsupervised model selection (pr), instance-weighted extensions (w–) and a comparison with recent work. av is macro-average, and avm is macro-average on the 8 languages used in mcdonald et al. (2011). the voted systems (a) and (b) take non-weighted votes over the systems in the above rows.</td>\n",
       "      <td>55</td>\n",
       "      <td>5</td>\n",
       "    </tr>\n",
       "    <tr>\n",
       "      <th>134</th>\n",
       "      <td>results/N09-1068-Figure1-1.png</td>\n",
       "      <td>Figure 1: (a) No domain adaptation. The model parameters, θ , are normally distributed, with mean µ (typically zero) and variance σ2. The likelihood of the data, D , is dependent on the model parameters. The form of the data distribution depends on the underlying model (e.g., logistic regression, or a CRF). (b) Our hierarchical domain adaptation model. The top-level parameters, θ∗, are normally distributed, with mean µ (typically zero) and variance σ2∗ . There is a plate for each domain. Within each plate, the domain-specific parameters, θd are normally distributed, with mean θ∗ and variance σ2d . (c) Our hierarchical domain adaptation model, with an extra level of structure. In this example, the domains are further split into text and speech super-domains, each of which has its own set of parameters (θtxt and σtxt for text and θsp and σsp for speech). θd is normally distributed with mean θtxt if domain d is in the text super-domain, and θsp if it is in the speech super-domain.</td>\n",
       "      <td>(a) no domain adaptation. the model parameters, θ , are normally distributed, with mean µ (typically zero) and variance σ2. the likelihood of the data, d , is dependent on the model parameters. the form of the data distribution depends on the underlying model (e.g., logistic regression, or a crf). (b) our hierarchical domain adaptation model. the top-level parameters, θ∗, are normally distributed, with mean µ (typically zero) and variance σ2∗ . there is a plate for each domain. within each plate, the domain-specific parameters, θd are normally distributed, with mean θ∗ and variance σ2d . (c) our hierarchical domain adaptation model, with an extra level of structure. in this example, the domains are further split into text and speech super-domains, each of which has its own set of parameters (θtxt and σtxt for text and θsp and σsp for speech). θd is normally distributed with mean θtxt if domain d is in the text super-domain, and θsp if it is in the speech super-domain.</td>\n",
       "      <td>167</td>\n",
       "      <td>11</td>\n",
       "    </tr>\n",
       "    <tr>\n",
       "      <th>274</th>\n",
       "      <td>results/L16-1361-Figure3-1.png</td>\n",
       "      <td>Figure 3: Results of comparing the list from Figure 2 with a list of terms obtained from a set of text about 1M tokens concerning music (mainly jazz). An additional column with the LL value is visible. Colors (gray-levels) show terms which occur in both corpora. The darker the color, the bigger the distributional difference. In the left window, comparison is made based on term frequencies; in the right window, C-values were used.</td>\n",
       "      <td>results of comparing the list from figure 2 with a list of terms obtained from a set of text about 1m tokens concerning music (mainly jazz). an additional column with the ll value is visible. colors (gray-levels) show terms which occur in both corpora. the darker the color, the bigger the distributional difference. in the left window, comparison is made based on term frequencies; in the right window, c-values were used.</td>\n",
       "      <td>73</td>\n",
       "      <td>5</td>\n",
       "    </tr>\n",
       "  </tbody>\n",
       "</table>\n",
       "</div>"
      ],
      "text/plain": [
       "                               file  \\\n",
       "56   results/E17-1114-Figure1-1.png   \n",
       "96   results/C12-2115-Figure3-1.png   \n",
       "134  results/N09-1068-Figure1-1.png   \n",
       "274  results/L16-1361-Figure3-1.png   \n",
       "\n",
       "                                                                                                                                                                                                                                                                                                                                                                                                                                                                                                                                                                                                                                                                                                                                                                                                                                                                                                                                                                                                                              caption  \\\n",
       "56                                                                                                                                                                                                                                                                                                                                                                                                                                                                                                                                                                                                                                                                                                                                                                    Figure 1: Multitask method. Words are represented in the Word2Vec space. Such representations are averaged per window. Sequences are feed to GRU network. Finally, the features are feed to two softmax components to predict genre and success simultaneously.   \n",
       "96                                                                                                                                                                                                                                                                                                                                                                                                                                                                                                                                                                                                                                                         Figure 3: Results, incl. language-level weighting (gtree and typology), unsupervised model selection (pr), instance-weighted extensions (w–) and a comparison with recent work. AV is macro-average, and AVM is macro-average on the 8 languages used in McDonald et al. (2011). The voted systems (a) and (b) take non-weighted votes over the systems in the above rows.   \n",
       "134  Figure 1: (a) No domain adaptation. The model parameters, θ , are normally distributed, with mean µ (typically zero) and variance σ2. The likelihood of the data, D , is dependent on the model parameters. The form of the data distribution depends on the underlying model (e.g., logistic regression, or a CRF). (b) Our hierarchical domain adaptation model. The top-level parameters, θ∗, are normally distributed, with mean µ (typically zero) and variance σ2∗ . There is a plate for each domain. Within each plate, the domain-specific parameters, θd are normally distributed, with mean θ∗ and variance σ2d . (c) Our hierarchical domain adaptation model, with an extra level of structure. In this example, the domains are further split into text and speech super-domains, each of which has its own set of parameters (θtxt and σtxt for text and θsp and σsp for speech). θd is normally distributed with mean θtxt if domain d is in the text super-domain, and θsp if it is in the speech super-domain.   \n",
       "274                                                                                                                                                                                                                                                                                                                                                                                                                                                                                                                                                                                 Figure 3: Results of comparing the list from Figure 2 with a list of terms obtained from a set of text about 1M tokens concerning music (mainly jazz). An additional column with the LL value is visible. Colors (gray-levels) show terms which occur in both corpora. The darker the color, the bigger the distributional difference. In the left window, comparison is made based on term frequencies; in the right window, C-values were used.   \n",
       "\n",
       "                                                                                                                                                                                                                                                                                                                                                                                                                                                                                                                                                                                                                                                                                                                                                                                                                                                                                                                                                                                                                 clean text  \\\n",
       "56                                                                                                                                                                                                                                                                                                                                                                                                                                                                                                                                                                                                                                                                                                                                                                    multitask method. words are represented in the word2vec space. such representations are averaged per window. sequences are feed to gru network. finally, the features are feed to two softmax components to predict genre and success simultaneously.   \n",
       "96                                                                                                                                                                                                                                                                                                                                                                                                                                                                                                                                                                                                                                                         results, incl. language-level weighting (gtree and typology), unsupervised model selection (pr), instance-weighted extensions (w–) and a comparison with recent work. av is macro-average, and avm is macro-average on the 8 languages used in mcdonald et al. (2011). the voted systems (a) and (b) take non-weighted votes over the systems in the above rows.   \n",
       "134  (a) no domain adaptation. the model parameters, θ , are normally distributed, with mean µ (typically zero) and variance σ2. the likelihood of the data, d , is dependent on the model parameters. the form of the data distribution depends on the underlying model (e.g., logistic regression, or a crf). (b) our hierarchical domain adaptation model. the top-level parameters, θ∗, are normally distributed, with mean µ (typically zero) and variance σ2∗ . there is a plate for each domain. within each plate, the domain-specific parameters, θd are normally distributed, with mean θ∗ and variance σ2d . (c) our hierarchical domain adaptation model, with an extra level of structure. in this example, the domains are further split into text and speech super-domains, each of which has its own set of parameters (θtxt and σtxt for text and θsp and σsp for speech). θd is normally distributed with mean θtxt if domain d is in the text super-domain, and θsp if it is in the speech super-domain.   \n",
       "274                                                                                                                                                                                                                                                                                                                                                                                                                                                                                                                                                                                 results of comparing the list from figure 2 with a list of terms obtained from a set of text about 1m tokens concerning music (mainly jazz). an additional column with the ll value is visible. colors (gray-levels) show terms which occur in both corpora. the darker the color, the bigger the distributional difference. in the left window, comparison is made based on term frequencies; in the right window, c-values were used.   \n",
       "\n",
       "     num_words  num_sentence  \n",
       "56          38             5  \n",
       "96          55             5  \n",
       "134        167            11  \n",
       "274         73             5  "
      ]
     },
     "execution_count": 194,
     "metadata": {},
     "output_type": "execute_result"
    }
   ],
   "source": [
    "# Examine long sentences \n",
    "df[df['num_sentence'] > 4][0:4]"
   ]
  },
  {
   "cell_type": "markdown",
   "id": "473007a9-987a-4773-9f77-89419cb5e523",
   "metadata": {},
   "source": [
    "Some data suggest it is caption for figures with multiple subplots. Those usually contain (a), (b), etc. We can label those captions as captions for figures with subfigures. This will both help us avoid long captions but also identify which figures has subfigures. Afterwards, we can only extract the first 3 sentences for captions that has more than 3 sentences."
   ]
  },
  {
   "cell_type": "code",
   "execution_count": 195,
   "id": "aba49477-6870-4b17-9481-1ecb30f00686",
   "metadata": {},
   "outputs": [],
   "source": [
    "new2_df['subfigure'] = new2_df['clean text'].str.contains(r'\\(a\\).*\\(b\\)')"
   ]
  },
  {
   "cell_type": "code",
   "execution_count": 196,
   "id": "b5143b1a-a918-48c7-98ef-712f5bb2eda3",
   "metadata": {},
   "outputs": [
    {
     "name": "stdout",
     "output_type": "stream",
     "text": [
      "There are 3955 captions for subfigures\n"
     ]
    }
   ],
   "source": [
    "sf_count = new2_df[new2_df['subfigure'] == True].shape[0]\n",
    "print(f'There are {sf_count} captions for subfigures')"
   ]
  },
  {
   "cell_type": "code",
   "execution_count": 197,
   "id": "6bf0aa1b-d539-4032-be19-fcdd955e2403",
   "metadata": {},
   "outputs": [],
   "source": [
    "# Extract first 3 sentence for long captions\n",
    "\n",
    "def cut_sent(caption, num_sent):\n",
    "    \n",
    "    if num_sent > 3:\n",
    "        new_cap = ' '.join([str(item) for item in sent_tokenize(caption)[0:3]])\n",
    "        return new_cap\n",
    "    else:\n",
    "        return caption"
   ]
  },
  {
   "cell_type": "code",
   "execution_count": 198,
   "id": "6fd5e895-abdd-45cd-b7a8-bc57bfa747c1",
   "metadata": {},
   "outputs": [],
   "source": [
    "new2_df['clean text'] = new2_df.apply(lambda row: cut_sent(row['clean text'], row['num_sentence']), axis=1)"
   ]
  },
  {
   "cell_type": "code",
   "execution_count": 199,
   "id": "678c6bfc-35a1-4662-9c43-1080ae3e2c8e",
   "metadata": {},
   "outputs": [],
   "source": [
    "# Generate new counts for the captions\n",
    "new2_df['num_sentence'] = new2_df.apply(lambda row: len(sent_tokenize(row['clean text'])), axis=1)"
   ]
  },
  {
   "cell_type": "code",
   "execution_count": 204,
   "id": "51f3e24d-8606-4706-a84d-5cbfebb82a16",
   "metadata": {},
   "outputs": [
    {
     "data": {
      "text/plain": [
       "count    123719.000000\n",
       "mean          1.443699\n",
       "std           0.730123\n",
       "min           0.000000\n",
       "25%           1.000000\n",
       "50%           1.000000\n",
       "75%           2.000000\n",
       "max           4.000000\n",
       "Name: num_sentence, dtype: float64"
      ]
     },
     "execution_count": 204,
     "metadata": {},
     "output_type": "execute_result"
    }
   ],
   "source": [
    "new2_df['num_sentence'].describe()"
   ]
  },
  {
   "cell_type": "code",
   "execution_count": 207,
   "id": "aa81c713-05f6-4310-a0b5-a3ae9f258318",
   "metadata": {},
   "outputs": [],
   "source": [
    "# Export the cleaned caption dataframe\n",
    "new2_df.to_csv('captions.csv')"
   ]
  }
 ],
 "metadata": {
  "kernelspec": {
   "display_name": "python-gpu",
   "language": "python",
   "name": "python-gpu"
  },
  "language_info": {
   "codemirror_mode": {
    "name": "ipython",
    "version": 3
   },
   "file_extension": ".py",
   "mimetype": "text/x-python",
   "name": "python",
   "nbconvert_exporter": "python",
   "pygments_lexer": "ipython3",
   "version": "3.7.11"
  }
 },
 "nbformat": 4,
 "nbformat_minor": 5
}
